{
 "cells": [
  {
   "cell_type": "markdown",
   "metadata": {},
   "source": [
    "US Gun Deaths Project"
   ]
  },
  {
   "cell_type": "code",
   "execution_count": 9,
   "metadata": {
    "collapsed": false
   },
   "outputs": [
    {
     "name": "stdout",
     "output_type": "stream",
     "text": [
      "[['', 'year', 'month', 'intent', 'police', 'sex', 'age', 'race', 'hispanic', 'place', 'education'], ['1', '2012', '01', 'Suicide', '0', 'M', '34', 'Asian/Pacific Islander', '100', 'Home', '4'], ['2', '2012', '01', 'Suicide', '0', 'F', '21', 'White', '100', 'Street', '3'], ['3', '2012', '01', 'Suicide', '0', 'M', '60', 'White', '100', 'Other specified', '4'], ['4', '2012', '02', 'Suicide', '0', 'M', '64', 'White', '100', 'Home', '4']]\n"
     ]
    }
   ],
   "source": [
    "##introducing US Gun Deaths Data\n",
    "import csv\n",
    "f = open(\"guns.csv\")\n",
    "csv = csv.reader(f)\n",
    "\n",
    "data = list(csv)\n",
    "print(data[0:5])"
   ]
  },
  {
   "cell_type": "code",
   "execution_count": 16,
   "metadata": {
    "collapsed": false
   },
   "outputs": [
    {
     "name": "stdout",
     "output_type": "stream",
     "text": [
      "[['2', '2012', '01', 'Suicide', '0', 'F', '21', 'White', '100', 'Street', '3']]\n",
      "[['3', '2012', '01', 'Suicide', '0', 'M', '60', 'White', '100', 'Other specified', '4'], ['4', '2012', '02', 'Suicide', '0', 'M', '64', 'White', '100', 'Home', '4'], ['5', '2012', '02', 'Suicide', '0', 'M', '31', 'White', '100', 'Other specified', '2'], ['6', '2012', '02', 'Suicide', '0', 'M', '17', 'Native American/Native Alaskan', '100', 'Home', '1'], ['7', '2012', '02', 'Undetermined', '0', 'M', '48', 'White', '100', 'Home', '2']]\n"
     ]
    }
   ],
   "source": [
    "##Removing Headers From A List Of Lists\n",
    "headers = data[:1]\n",
    "data = data[1:]\n",
    "print(headers)\n",
    "print(data[0:5])\n"
   ]
  },
  {
   "cell_type": "code",
   "execution_count": 14,
   "metadata": {
    "collapsed": false
   },
   "outputs": [
    {
     "data": {
      "text/plain": [
       "{'2012': 33563, '2013': 33636, '2014': 33599}"
      ]
     },
     "execution_count": 14,
     "metadata": {},
     "output_type": "execute_result"
    }
   ],
   "source": [
    "##Counting Gun Deaths By Year\n",
    "\n",
    "\"\"\"\n",
    "years = []\n",
    "for row in data:\n",
    "    years.append(row[1])\n",
    "\"\"\"\n",
    "#list the year\n",
    "years = [row[1] for row in data]\n",
    "\n",
    "#Count by the year\n",
    "year_counts = {}\n",
    "for year in years:\n",
    "    if year in year_counts:\n",
    "        year_counts[year] += 1\n",
    "    else:\n",
    "        year_counts[year] = 1\n",
    "\n",
    "year_counts\n"
   ]
  },
  {
   "cell_type": "code",
   "execution_count": 33,
   "metadata": {
    "collapsed": false
   },
   "outputs": [
    {
     "name": "stdout",
     "output_type": "stream",
     "text": [
      "[datetime.datetime(2012, 1, 1, 0, 0), datetime.datetime(2012, 2, 1, 0, 0), datetime.datetime(2012, 2, 1, 0, 0), datetime.datetime(2012, 2, 1, 0, 0), datetime.datetime(2012, 2, 1, 0, 0)]\n"
     ]
    },
    {
     "data": {
      "text/plain": [
       "{datetime.datetime(2012, 1, 1, 0, 0): 2756,\n",
       " datetime.datetime(2012, 2, 1, 0, 0): 2357,\n",
       " datetime.datetime(2012, 3, 1, 0, 0): 2743,\n",
       " datetime.datetime(2012, 4, 1, 0, 0): 2795,\n",
       " datetime.datetime(2012, 5, 1, 0, 0): 2999,\n",
       " datetime.datetime(2012, 6, 1, 0, 0): 2826,\n",
       " datetime.datetime(2012, 7, 1, 0, 0): 3026,\n",
       " datetime.datetime(2012, 8, 1, 0, 0): 2954,\n",
       " datetime.datetime(2012, 9, 1, 0, 0): 2852,\n",
       " datetime.datetime(2012, 10, 1, 0, 0): 2733,\n",
       " datetime.datetime(2012, 11, 1, 0, 0): 2729,\n",
       " datetime.datetime(2012, 12, 1, 0, 0): 2791,\n",
       " datetime.datetime(2013, 1, 1, 0, 0): 2864,\n",
       " datetime.datetime(2013, 2, 1, 0, 0): 2375,\n",
       " datetime.datetime(2013, 3, 1, 0, 0): 2862,\n",
       " datetime.datetime(2013, 4, 1, 0, 0): 2798,\n",
       " datetime.datetime(2013, 5, 1, 0, 0): 2806,\n",
       " datetime.datetime(2013, 6, 1, 0, 0): 2920,\n",
       " datetime.datetime(2013, 7, 1, 0, 0): 3079,\n",
       " datetime.datetime(2013, 8, 1, 0, 0): 2859,\n",
       " datetime.datetime(2013, 9, 1, 0, 0): 2742,\n",
       " datetime.datetime(2013, 10, 1, 0, 0): 2808,\n",
       " datetime.datetime(2013, 11, 1, 0, 0): 2758,\n",
       " datetime.datetime(2013, 12, 1, 0, 0): 2765,\n",
       " datetime.datetime(2014, 1, 1, 0, 0): 2651,\n",
       " datetime.datetime(2014, 2, 1, 0, 0): 2361,\n",
       " datetime.datetime(2014, 3, 1, 0, 0): 2684,\n",
       " datetime.datetime(2014, 4, 1, 0, 0): 2862,\n",
       " datetime.datetime(2014, 5, 1, 0, 0): 2864,\n",
       " datetime.datetime(2014, 6, 1, 0, 0): 2931,\n",
       " datetime.datetime(2014, 7, 1, 0, 0): 2884,\n",
       " datetime.datetime(2014, 8, 1, 0, 0): 2970,\n",
       " datetime.datetime(2014, 9, 1, 0, 0): 2914,\n",
       " datetime.datetime(2014, 10, 1, 0, 0): 2865,\n",
       " datetime.datetime(2014, 11, 1, 0, 0): 2756,\n",
       " datetime.datetime(2014, 12, 1, 0, 0): 2857}"
      ]
     },
     "execution_count": 33,
     "metadata": {},
     "output_type": "execute_result"
    }
   ],
   "source": [
    "##Exploring Gun Deaths By Month And Year\n",
    "\n",
    "import datetime\n",
    "\n",
    "\"\"\"\n",
    "dates = []\n",
    "for row in data:\n",
    "    year = int(row[1])\n",
    "    month = int(row[2])\n",
    "    day1 = datetime.datetime(year = year, month = month, day=1)\n",
    "    dates.append(day1)\n",
    "\"\"\"\n",
    "#list the year and month\n",
    "dates = [datetime.datetime(year = int(row[1]), month = int(row[2]), day = 1) for row in data]\n",
    "print(dates[0:5])  \n",
    "\n",
    "#count by the year and month\n",
    "date_counts = {}\n",
    "for date in dates:\n",
    "    if date in date_counts:\n",
    "        date_counts[date] += 1\n",
    "    else:\n",
    "        date_counts[date] = 1\n",
    "\n",
    "#print(date_counts)\n",
    "date_counts"
   ]
  },
  {
   "cell_type": "code",
   "execution_count": 36,
   "metadata": {
    "collapsed": false
   },
   "outputs": [
    {
     "name": "stdout",
     "output_type": "stream",
     "text": [
      "{'M': 86348, 'F': 14448}\n",
      "{'Black': 23296, 'Asian/Pacific Islander': 1325, 'Native American/Native Alaskan': 917, 'White': 66236, 'Hispanic': 9022}\n"
     ]
    }
   ],
   "source": [
    "##Exploring Gun Deaths By Race And Sex\n",
    "\n",
    "sex_counts = {}\n",
    "race_counts = {}\n",
    "\n",
    "for row in data:\n",
    "    sex = row[5]\n",
    "    race = row[7]\n",
    "    if sex in sex_counts:\n",
    "        sex_counts[sex] += 1\n",
    "    else:\n",
    "        sex_counts[sex] = 1\n",
    "    if race in race_counts:\n",
    "        race_counts[race] += 1\n",
    "    else:\n",
    "        race_counts[race] = 1\n",
    "        \n",
    "print(sex_counts)\n",
    "print(race_counts)\n",
    "    \n",
    "    "
   ]
  },
  {
   "cell_type": "markdown",
   "metadata": {},
   "source": [
    "Findings so far\n",
    "\n",
    "by sex:\n",
    "The number of gun death from men in the US is around 6 times than the number from women based the data during 2012 to 2014.    \n",
    "\n",
    "by race:\n",
    "The number of gun death from White is the highest(66236), which is almost 3 times than the number from Black (the second highest, 23296). The numbers following by Black are 9022(Hispanic), 1325(Asian/Pacific Islander) and 917(Native American/Native Alaskan). \n",
    "\n",
    "Since the total populations of each race are highly different, to examine the gun deaths by race rate would make more sense than counting the numbers purely. So the next section, the population numbers of each race would be imported for more insights."
   ]
  },
  {
   "cell_type": "code",
   "execution_count": 64,
   "metadata": {
    "collapsed": false
   },
   "outputs": [
    {
     "name": "stdout",
     "output_type": "stream",
     "text": [
      "[['Id', 'Year', 'Id', 'Sex', 'Id', 'Hispanic Origin', 'Id', 'Id2', 'Geography', 'Total', 'Race Alone - White', 'Race Alone - Hispanic', 'Race Alone - Black or African American', 'Race Alone - American Indian and Alaska Native', 'Race Alone - Asian', 'Race Alone - Native Hawaiian and Other Pacific Islander', 'Two or More Races'], ['cen42010', 'April 1, 2010 Census', 'totsex', 'Both Sexes', 'tothisp', 'Total', '0100000US', '', 'United States', '308745538', '197318956', '44618105', '40250635', '3739506', '15159516', '674625', '6984195']]\n"
     ]
    }
   ],
   "source": [
    "###introducing US census Data\n",
    "import csv\n",
    "f = open(\"census.csv\")\n",
    "o = csv.reader(f)\n",
    "census = list(o)\n",
    "print(census)\n"
   ]
  },
  {
   "cell_type": "code",
   "execution_count": 41,
   "metadata": {
    "collapsed": false
   },
   "outputs": [
    {
     "name": "stdout",
     "output_type": "stream",
     "text": [
      "{'Black': 40250635, 'Asian/Pacific Islander': 15834141, 'Native American/Native Alaskan': 3739506, 'Hispanic': 44618105, 'White': 197318956}\n"
     ]
    }
   ],
   "source": [
    "#Computing Rates Of Gun Deaths Per Race\n",
    "\n",
    "#Coumputing total population by race\n",
    "mapping = {\n",
    "    \"Asian/Pacific Islander\":int(census[1][14]) + int(census[1][15]),\n",
    "    \"Black\":int(census[1][12]),\n",
    "    \"Native American/Native Alaskan\":int(census[1][13]),\n",
    "    \"Hispanic\":int(census[1][11]),\n",
    "    \"White\":int(census[1][10])    \n",
    "}\n",
    "print(mapping)"
   ]
  },
  {
   "cell_type": "code",
   "execution_count": 43,
   "metadata": {
    "collapsed": false
   },
   "outputs": [
    {
     "data": {
      "text/plain": [
       "{'Asian/Pacific Islander': 8.36799419684339,\n",
       " 'Black': 57.8773477735196,\n",
       " 'Hispanic': 20.220491210910907,\n",
       " 'Native American/Native Alaskan': 24.521955573811088,\n",
       " 'White': 33.567986240511026}"
      ]
     },
     "execution_count": 43,
     "metadata": {},
     "output_type": "execute_result"
    }
   ],
   "source": [
    "race_per_hundredk = {}\n",
    "\n",
    "for row in race_counts:\n",
    "    race_per_hundredk[row] = (race_counts[row] / mapping[row]) * 100000\n",
    "\n",
    "\"\"\"\n",
    "for k,v in race_counts.items():\n",
    "    race_per_hundredk[k] = (v / mapping[k]) * 100000\n",
    "\"\"\"\n",
    "\n",
    "race_per_hundredk "
   ]
  },
  {
   "cell_type": "markdown",
   "metadata": {},
   "source": [
    "Findings so far\n",
    "\n",
    "From last section, the number of gun death from White is the highest, however White's the gun death rate after comparing with the population is around 33.57%, which is lower than Black(57.88%). The lowest gun death rate is from Asian/Pacific Islander(8.37%), even they are the forth largest race in the US. The third largest race, Hispanic has the gun death rate of 20.22%, while the smallest race Native American/Native Alaskan has the rate of 24.52%. \n"
   ]
  },
  {
   "cell_type": "code",
   "execution_count": 67,
   "metadata": {
    "collapsed": false
   },
   "outputs": [
    {
     "name": "stdout",
     "output_type": "stream",
     "text": [
      "{'Black': 48.471284987180944, 'Asian/Pacific Islander': 3.530346230970155, 'Native American/Native Alaskan': 8.717729026240365, 'White': 4.6356417981453335, 'Hispanic': 12.627161104219914}\n"
     ]
    }
   ],
   "source": [
    "#examining by intent (homicide rate) and race\n",
    "\n",
    "intents = [row[3] for row in data] #reasons of gun deaths\n",
    "homicide_race_counts = {}\n",
    "races = [row[7] for row in data]\n",
    "\n",
    "for i,race in enumerate(races):\n",
    "    if race not in homicide_race_counts:\n",
    "        homicide_race_counts[race] = 0\n",
    "    if intents[i] == \"Homicide\":\n",
    "        homicide_race_counts[race] += 1\n",
    "\n",
    "for row in homicide_race_counts:\n",
    "    homicide_race_counts[row] = (homicide_race_counts[row] / mapping[row]) * 100000\n",
    "\n",
    "\"\"\"\n",
    "for k,v in homicide_race_counts.items():\n",
    "    race_per_hundredk[k] = (v / mapping[k]) * 100000\n",
    "\"\"\"\n",
    "    \n",
    "print(homicide_race_counts) # the homicide rate by race "
   ]
  },
  {
   "cell_type": "markdown",
   "metadata": {},
   "source": [
    "Findings so far\n",
    "\n",
    "Black has the highest homicide rate(48.47%), following by Hispanic(12.63%), Native American/Native Alaskan(8.72%), White(4.64%) and Asian/Pacific Islander(3.53%)."
   ]
  },
  {
   "cell_type": "code",
   "execution_count": 68,
   "metadata": {
    "collapsed": false
   },
   "outputs": [
    {
     "name": "stdout",
     "output_type": "stream",
     "text": [
      "{1: 2829, 2: 2178, 3: 2780, 4: 2845, 5: 2976, 6: 3130, 7: 3269, 8: 3125, 9: 2966, 10: 2968, 11: 2919, 12: 3191}\n",
      "{'M': 29803, 'F': 5373}\n"
     ]
    },
    {
     "data": {
      "text/plain": [
       "{'F': 37.188538205980066, 'M': 10.350420226436064}"
      ]
     },
     "execution_count": 68,
     "metadata": {},
     "output_type": "execute_result"
    }
   ],
   "source": [
    "#Examining homicide rate by month and gender\n",
    "month_homi_count = {}\n",
    "gender_homi_count = {}\n",
    "gender_homi_rate = {}\n",
    "#months = [row[2] for row in data]\n",
    "\n",
    "for row in data:\n",
    "    if int(row[2]) not in month_homi_count:\n",
    "        month_homi_count[int(row[2])] = 0\n",
    "    if row[5] not in gender_homi_count:\n",
    "        gender_homi_count[row[5]] = 0\n",
    "    if row[3] == \"Homicide\":\n",
    "        month_homi_count[int(row[2])] += 1\n",
    "        gender_homi_count[row[5]] += 1\n",
    "        \n",
    "print(month_homi_count)\n",
    "print(gender_homi_count)\n",
    "\n",
    "#Explore the homicide rate by gender.\n",
    "for k,v in gender_homi_count.items():\n",
    "    gender_homi_rate[k] = (v / sex_counts[k]) * 100\n",
    "gender_homi_rate"
   ]
  },
  {
   "cell_type": "markdown",
   "metadata": {},
   "source": [
    "Findings so far\n",
    "\n",
    "By month: Homicide rates have no obvious differences between each month, but the higher numbers are located in Summer(June, July and August) and December. The lowest number is in February.\n",
    "\n",
    "By gender: Male has almost 4 times of the homicide number(29803) than female(5373). However, female's homicide rate(37.19%) is distinctly higher than male(10.35%)."
   ]
  },
  {
   "cell_type": "code",
   "execution_count": 74,
   "metadata": {
    "collapsed": false
   },
   "outputs": [
    {
     "data": {
      "text/plain": [
       "{'Accidental': 4917,\n",
       " 'Homicide': 105528,\n",
       " 'NA': 3,\n",
       " 'Suicide': 189519,\n",
       " 'Undetermined': 2421}"
      ]
     },
     "execution_count": 74,
     "metadata": {},
     "output_type": "execute_result"
    }
   ],
   "source": [
    "#Explore the rates of other intents, like Accidental, by gender and race.\n",
    "all_intents = set(intents) #unique intents\n",
    "\n",
    "for row in data:\n",
    "    if row[3] not in all_intents_count:\n",
    "        all_intents_count[row[3]] = 0\n",
    "    all_intents_count[row[3]] += 1\n",
    "all_intents_count    \n"
   ]
  },
  {
   "cell_type": "code",
   "execution_count": null,
   "metadata": {
    "collapsed": true
   },
   "outputs": [],
   "source": [
    "#Here are some potential next steps:\n",
    "\n",
    "#Figure out the link, if any, between month and homicide rate.\n",
    "#Explore the homicide rate by gender.\n",
    "\n",
    "#not done yet\n",
    "####Explore the rates of other intents, like Accidental, by gender and race.\n",
    "####Find out if gun death rates correlate to location and education."
   ]
  }
 ],
 "metadata": {
  "kernelspec": {
   "display_name": "Python 3",
   "language": "python",
   "name": "python3"
  },
  "language_info": {
   "codemirror_mode": {
    "name": "ipython",
    "version": 3
   },
   "file_extension": ".py",
   "mimetype": "text/x-python",
   "name": "python",
   "nbconvert_exporter": "python",
   "pygments_lexer": "ipython3",
   "version": "3.4.3"
  }
 },
 "nbformat": 4,
 "nbformat_minor": 0
}
